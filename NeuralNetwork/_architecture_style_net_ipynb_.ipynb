{
  "nbformat": 4,
  "nbformat_minor": 0,
  "metadata": {
    "colab": {
      "name": "\"architecture_style_net.ipynb\"",
      "provenance": [],
      "collapsed_sections": [],
      "toc_visible": true
    },
    "kernelspec": {
      "name": "python3",
      "display_name": "Python 3"
    },
    "accelerator": "GPU"
  },
  "cells": [
    {
      "cell_type": "markdown",
      "metadata": {
        "id": "_K1HRvBj-Cm-"
      },
      "source": [
        "# Предварительная настройка"
      ]
    },
    {
      "cell_type": "markdown",
      "source": [
        "Импорт библиотек"
      ],
      "metadata": {
        "id": "vkwbUII6czIs"
      }
    },
    {
      "cell_type": "code",
      "metadata": {
        "id": "lTpYmXIeA46l"
      },
      "source": [
        "from __future__ import print_function, division\n",
        "import torch\n",
        "import torch.nn as nn\n",
        "import torch.optim as optim\n",
        "from torch.optim import lr_scheduler\n",
        "import numpy as np\n",
        "import torchvision\n",
        "from torchvision import datasets, models, transforms\n",
        "from sklearn import metrics\n",
        "import matplotlib.pyplot as plt\n",
        "import time\n",
        "import os\n",
        "import sys\n",
        "import copy\n",
        "import random\n",
        "from torchsummary import summary\n",
        "from pandas import DataFrame\n",
        "import seaborn as sn"
      ],
      "execution_count": 1,
      "outputs": []
    },
    {
      "cell_type": "markdown",
      "source": [
        "Обращение к Google Диску из Google Colab "
      ],
      "metadata": {
        "id": "bUnE3-tYXUJP"
      }
    },
    {
      "cell_type": "code",
      "metadata": {
        "id": "qH2xdNKPrpV2",
        "colab": {
          "base_uri": "https://localhost:8080/"
        },
        "outputId": "d71431ac-3230-4ed3-8c1c-18eb3c068193"
      },
      "source": [
        "from google.colab import drive\n",
        "drive.mount('/content/drive/')"
      ],
      "execution_count": 2,
      "outputs": [
        {
          "output_type": "stream",
          "name": "stdout",
          "text": [
            "Drive already mounted at /content/drive/; to attempt to forcibly remount, call drive.mount(\"/content/drive/\", force_remount=True).\n"
          ]
        }
      ]
    },
    {
      "cell_type": "markdown",
      "source": [
        "Настройка начального значения для воспроизводимости результатов"
      ],
      "metadata": {
        "id": "LYPSpSu5b0HD"
      }
    },
    {
      "cell_type": "code",
      "metadata": {
        "id": "NCnOLBsPb2E4"
      },
      "source": [
        "def init_random_seed(value):\n",
        "    random.seed(value)\n",
        "    np.random.seed(value)\n",
        "    torch.manual_seed(value)\n",
        "    torch.cuda.manual_seed(value)\n",
        "    torch.backends.cudnn.deterministic = True\n",
        "\n",
        "random_seed = 17\n",
        "init_random_seed(random_seed)"
      ],
      "execution_count": 3,
      "outputs": []
    },
    {
      "cell_type": "markdown",
      "source": [
        "Использование GPU в вычислениях"
      ],
      "metadata": {
        "id": "fK44j-Omavo2"
      }
    },
    {
      "cell_type": "code",
      "metadata": {
        "colab": {
          "base_uri": "https://localhost:8080/"
        },
        "id": "YewtK4B9c-SQ",
        "outputId": "8db156c6-27e0-4d41-e746-6c632ba42ba6"
      },
      "source": [
        "device = torch.device(\"cuda:0\" if torch.cuda.is_available() else \"cpu\")\n",
        "print(device)"
      ],
      "execution_count": 4,
      "outputs": [
        {
          "output_type": "stream",
          "name": "stdout",
          "text": [
            "cuda:0\n"
          ]
        }
      ]
    },
    {
      "cell_type": "markdown",
      "metadata": {
        "id": "r5Fvbhy1940L"
      },
      "source": [
        "# Датасет"
      ]
    },
    {
      "cell_type": "markdown",
      "source": [
        "Название папки с картинками и путь до нее на Google диске"
      ],
      "metadata": {
        "id": "G3BReX3ogyod"
      }
    },
    {
      "cell_type": "code",
      "metadata": {
        "id": "eVWaHIcFq5mG"
      },
      "source": [
        "NAME = 'architecture'\n",
        "data_dir = '/content/drive/My Drive/' + NAME"
      ],
      "execution_count": 5,
      "outputs": []
    },
    {
      "cell_type": "markdown",
      "source": [
        "Аугментация и нормализация исходных картинок"
      ],
      "metadata": {
        "id": "W8fsMGfxgi2X"
      }
    },
    {
      "cell_type": "code",
      "metadata": {
        "id": "0cx4wfyVrbb9"
      },
      "source": [
        "data_transforms = {\n",
        "    'train': transforms.Compose([\n",
        "        transforms.RandomResizedCrop(224),\n",
        "        transforms.RandomHorizontalFlip(),\n",
        "        transforms.ToTensor(),\n",
        "        transforms.Normalize([0.485, 0.456, 0.406], [0.229, 0.224, 0.225])\n",
        "    ]),\n",
        "\n",
        "    'test': transforms.Compose([\n",
        "        transforms.Resize(256),\n",
        "        transforms.CenterCrop(224),\n",
        "        transforms.ToTensor(),\n",
        "        transforms.Normalize([0.485, 0.456, 0.406], [0.229, 0.224, 0.225])\n",
        "    ]),\n",
        "}"
      ],
      "execution_count": 6,
      "outputs": []
    },
    {
      "cell_type": "markdown",
      "source": [
        "Создание датасета"
      ],
      "metadata": {
        "id": "G3HDdi7TotMy"
      }
    },
    {
      "cell_type": "code",
      "source": [
        "image_datasets = {x: \n",
        "                 datasets.ImageFolder(os.path.join(data_dir, x), data_transforms[x])\n",
        "                 for x in ['train', 'test']}\n",
        "                 \n",
        "dataloaders = {x: \n",
        "              torch.utils.data.DataLoader(image_datasets[x], batch_size = 6, shuffle = True, num_workers = 6)\n",
        "              for x in ['train', 'test']}"
      ],
      "metadata": {
        "colab": {
          "base_uri": "https://localhost:8080/"
        },
        "id": "x8Eg2Z4Toq93",
        "outputId": "fec4546e-4af8-4bbd-c936-9a1d51323a66"
      },
      "execution_count": 7,
      "outputs": [
        {
          "output_type": "stream",
          "name": "stderr",
          "text": [
            "/usr/local/lib/python3.7/dist-packages/torch/utils/data/dataloader.py:490: UserWarning: This DataLoader will create 6 worker processes in total. Our suggested max number of worker in current system is 2, which is smaller than what this DataLoader is going to create. Please be aware that excessive worker creation might get DataLoader running slow or even freeze, lower the worker number to avoid potential slowness/freeze if necessary.\n",
            "  cpuset_checked))\n"
          ]
        }
      ]
    },
    {
      "cell_type": "markdown",
      "source": [
        "Информация о датасете (размер, классы)"
      ],
      "metadata": {
        "id": "Bxk9bZKLDMOC"
      }
    },
    {
      "cell_type": "code",
      "source": [
        "dataset_sizes = {x: len(image_datasets[x]) for x in ['train', 'test']}\n",
        "print('dataset_sizes:', dataset_sizes)\n",
        "\n",
        "class_names = image_datasets['train'].classes\n",
        "print('\\nclass_names:', class_names)"
      ],
      "metadata": {
        "colab": {
          "base_uri": "https://localhost:8080/"
        },
        "id": "R1O5plM0DH70",
        "outputId": "46626959-09d1-43e1-acf7-59f4753c7775"
      },
      "execution_count": 8,
      "outputs": [
        {
          "output_type": "stream",
          "name": "stdout",
          "text": [
            "dataset_sizes: {'train': 262, 'test': 49}\n",
            "\n",
            "class_names: ['ар-деко', 'барокко', 'византийский', 'готика', 'романский']\n"
          ]
        }
      ]
    },
    {
      "cell_type": "markdown",
      "source": [
        "Отображение части датасета"
      ],
      "metadata": {
        "id": "SSO3c3wna_WI"
      }
    },
    {
      "cell_type": "code",
      "metadata": {
        "id": "6ZhnhMxlvuxz",
        "colab": {
          "base_uri": "https://localhost:8080/",
          "height": 175
        },
        "outputId": "96062a9b-b184-41d6-d49a-b1b556336f08"
      },
      "source": [
        "def imshow(image, title = None):\n",
        "    image = image.numpy().transpose((1, 2, 0))\n",
        "    mean = np.array([0.485, 0.456, 0.406])\n",
        "    std = np.array([0.229, 0.224, 0.225])\n",
        "    image = std * image + mean\n",
        "    image = np.clip(image, 0, 1)\n",
        "    plt.imshow(image)\n",
        "    if title is not None:\n",
        "       plt.title(title)\n",
        "    plt.pause(0.001)  # pause a bit so that plots are updated\n",
        "\n",
        "image, classes = next(iter(dataloaders['train']))\n",
        "grid = torchvision.utils.make_grid(image)\n",
        "imshow(grid, title = [class_names[x] for x in classes])"
      ],
      "execution_count": 17,
      "outputs": [
        {
          "output_type": "stream",
          "name": "stderr",
          "text": [
            "/usr/local/lib/python3.7/dist-packages/torch/utils/data/dataloader.py:490: UserWarning: This DataLoader will create 6 worker processes in total. Our suggested max number of worker in current system is 2, which is smaller than what this DataLoader is going to create. Please be aware that excessive worker creation might get DataLoader running slow or even freeze, lower the worker number to avoid potential slowness/freeze if necessary.\n",
            "  cpuset_checked))\n"
          ]
        },
        {
          "output_type": "display_data",
          "data": {
            "text/plain": [
              "<Figure size 432x288 with 1 Axes>"
            ],
            "image/png": "[encoded data removed]"
          },
          "metadata": {
            "needs_background": "light"
          }
        }
      ]
    },
    {
      "cell_type": "markdown",
      "source": [
        "# Нейронная сеть"
      ],
      "metadata": {
        "id": "HbR4LjpPYiZx"
      }
    },
    {
      "cell_type": "markdown",
      "source": [
        "Создание нейронной сети на основе обученной Resnet34"
      ],
      "metadata": {
        "id": "37E1yjkAY1Xb"
      }
    },
    {
      "cell_type": "code",
      "metadata": {
        "id": "B5oZ20tayb1T"
      },
      "source": [
        "model = models.resnet34(pretrained = True)\n",
        "for param in model.parameters():\n",
        "    param.requires_grad = False\n",
        "\n",
        "num_ftrs = model.fc.in_features\n",
        "num_classes = len(class_names)\n",
        "model.fc = nn.Linear(num_ftrs, num_classes)\n",
        "model = model.to(device)\n",
        "\n",
        "criterion = nn.CrossEntropyLoss()\n",
        "optimizer_ft = optim.SGD(model.parameters(), lr = 0.001, momentum = 0.9)\n",
        "exp_lr_scheduler = lr_scheduler.StepLR(optimizer_ft, step_size = 5, gamma = 0.1)"
      ],
      "execution_count": 10,
      "outputs": []
    },
    {
      "cell_type": "markdown",
      "source": [
        "Функция для обучения сети"
      ],
      "metadata": {
        "id": "eZ5-hgCpRDR3"
      }
    },
    {
      "cell_type": "code",
      "metadata": {
        "id": "QIrlecnlyWT5"
      },
      "source": [
        "def train_model(model, criterion, optimizer, scheduler, num_epochs, since):\n",
        "    \n",
        "    best_model_wts = copy.deepcopy(model.state_dict())\n",
        "    best_epoch = 0\n",
        "    best_acc = 0.0\n",
        "    best_loss = sys.maxsize\n",
        "\n",
        "    hist_loss_train = []\n",
        "    hist_acc_train = []\n",
        "    hist_loss_test = []\n",
        "    hist_acc_test = []\n",
        "\n",
        "    for epoch in range(num_epochs):\n",
        "        print('Epoch {}/{}'.format(epoch + 1, num_epochs), '\\n', '-'*10)\n",
        "\n",
        "        for phase in ['train', 'test']:\n",
        "            if phase == 'train':\n",
        "                model.train()\n",
        "            else:\n",
        "                model.eval()\n",
        "\n",
        "            running_loss = 0.0\n",
        "            running_corrects = 0\n",
        "            \n",
        "            for inputs, labels in dataloaders[phase]:\n",
        "                inputs = inputs.to(device)\n",
        "                labels = labels.to(device)\n",
        "               \n",
        "                optimizer.zero_grad()\n",
        "              \n",
        "                with torch.set_grad_enabled(phase == 'train'):\n",
        "                    outputs = model(inputs)\n",
        "                    _, preds = torch.max(outputs, 1)\n",
        "                    loss = criterion(outputs, labels)\n",
        "\n",
        "                    if phase == 'train':\n",
        "                        loss.backward()\n",
        "                        optimizer.step()\n",
        "\n",
        "                running_loss += loss.item() * inputs.size(0)\n",
        "                running_corrects += torch.sum(preds == labels.data).cpu()\n",
        "            if phase == 'train':\n",
        "                scheduler.step()\n",
        "\n",
        "            epoch_loss = running_loss / dataset_sizes[phase]\n",
        "            epoch_acc = running_corrects.double() / dataset_sizes[phase]\n",
        "\n",
        "            print('{} Loss: {:.4f} Acc: {:.4f}'.format(phase, epoch_loss, epoch_acc))\n",
        "            if phase == 'train':\n",
        "                hist_loss_train.append(epoch_loss)\n",
        "                hist_acc_train.append(epoch_acc)\n",
        "            else:     \n",
        "                hist_loss_test.append(epoch_loss)\n",
        "                hist_acc_test.append(epoch_acc)\n",
        "\n",
        "            if phase == 'test' and epoch_loss < best_loss:\n",
        "                best_acc = epoch_acc\n",
        "                best_loss = epoch_loss\n",
        "                best_epoch = epoch\n",
        "                best_model_wts = copy.deepcopy(model.state_dict())\n",
        "        print()\n",
        "    \n",
        "    model.eval()\n",
        "    time_elapsed = time.time() - since\n",
        "    print('Training complete in {:.0f}m {:.0f}s'.format(time_elapsed // 60, time_elapsed % 60))\n",
        "    print('Best epoch:{}  TestLoss:{:4f}  Acc: {:4f}'.format(best_epoch, best_loss, best_acc))\n",
        "    \n",
        "    hist_loss_train = [i * 100 for i in hist_loss_train]\n",
        "    hist_loss_test = [i * 100 for i in hist_loss_test]\n",
        "    plt.plot(np.arange(0, num_epochs), hist_loss_train, label = 'hist_loss_train')\n",
        "    plt.plot(np.arange(0, num_epochs), hist_loss_test, label = 'hist_loss_test')\n",
        "    plt.legend(framealpha = 1, frameon = True)\n",
        "    plt.title('График функции потерь CrossEntropyLoss')\n",
        "    plt.xlabel(\"эпоха\")\n",
        "    plt.ylabel(\"значение, %\")\n",
        "    plt.show()\n",
        "\n",
        "    hist_acc_train = [i * 100 for i in hist_acc_train]\n",
        "    hist_acc_test = [i * 100 for i in hist_acc_test]\n",
        "    plt.plot(np.arange(0, num_epochs), hist_acc_train, label = 'hist_acc_train')\n",
        "    plt.plot(np.arange(0, num_epochs), hist_acc_test, label = 'hist_acc_test')\n",
        "    plt.legend(framealpha = 1, frameon = True)\n",
        "    plt.title('График точности классификации')\n",
        "    plt.xlabel(\"эпоха\")\n",
        "    plt.ylabel(\"значение, %\")\n",
        "    plt.show()\n",
        "\n",
        "    model.load_state_dict(best_model_wts)\n",
        "\n",
        "    return model"
      ],
      "execution_count": 11,
      "outputs": []
    },
    {
      "cell_type": "markdown",
      "source": [
        "Обучение сети"
      ],
      "metadata": {
        "id": "UO2TBnjbVmiW"
      }
    },
    {
      "cell_type": "code",
      "metadata": {
        "id": "yfzAWmP9yjBY",
        "colab": {
          "base_uri": "https://localhost:8080/",
          "height": 1000
        },
        "outputId": "05090366-3e08-4478-c003-2166ef612075"
      },
      "source": [
        "start_time = time.time()\n",
        "num_epochs = 20\n",
        "model = train_model(model, criterion, optimizer_ft, exp_lr_scheduler, num_epochs = num_epochs, since = start_time)"
      ],
      "execution_count": 12,
      "outputs": [
        {
          "output_type": "stream",
          "name": "stdout",
          "text": [
            "Epoch 1/20 \n",
            " ----------\n"
          ]
        },
        {
          "output_type": "stream",
          "name": "stderr",
          "text": [
            "/usr/local/lib/python3.7/dist-packages/torch/utils/data/dataloader.py:490: UserWarning: This DataLoader will create 6 worker processes in total. Our suggested max number of worker in current system is 2, which is smaller than what this DataLoader is going to create. Please be aware that excessive worker creation might get DataLoader running slow or even freeze, lower the worker number to avoid potential slowness/freeze if necessary.\n",
            "  cpuset_checked))\n"
          ]
        },
        {
          "output_type": "stream",
          "name": "stdout",
          "text": [
            "train Loss: 1.5154 Acc: 0.3206\n",
            "test Loss: 1.0127 Acc: 0.6735\n",
            "\n",
            "Epoch 2/20 \n",
            " ----------\n",
            "train Loss: 1.1321 Acc: 0.5305\n",
            "test Loss: 0.6993 Acc: 0.7755\n",
            "\n",
            "Epoch 3/20 \n",
            " ----------\n",
            "train Loss: 0.8868 Acc: 0.6794\n",
            "test Loss: 0.5265 Acc: 0.8367\n",
            "\n",
            "Epoch 4/20 \n",
            " ----------\n",
            "train Loss: 0.8241 Acc: 0.7061\n",
            "test Loss: 0.4848 Acc: 0.8367\n",
            "\n",
            "Epoch 5/20 \n",
            " ----------\n",
            "train Loss: 0.7537 Acc: 0.7099\n",
            "test Loss: 0.3810 Acc: 0.8980\n",
            "\n",
            "Epoch 6/20 \n",
            " ----------\n",
            "train Loss: 0.5748 Acc: 0.8092\n",
            "test Loss: 0.3596 Acc: 0.8980\n",
            "\n",
            "Epoch 7/20 \n",
            " ----------\n",
            "train Loss: 0.6162 Acc: 0.7939\n",
            "test Loss: 0.3671 Acc: 0.9184\n",
            "\n",
            "Epoch 8/20 \n",
            " ----------\n",
            "train Loss: 0.6618 Acc: 0.7557\n",
            "test Loss: 0.3753 Acc: 0.8980\n",
            "\n",
            "Epoch 9/20 \n",
            " ----------\n",
            "train Loss: 0.6149 Acc: 0.7939\n",
            "test Loss: 0.3526 Acc: 0.9184\n",
            "\n",
            "Epoch 10/20 \n",
            " ----------\n",
            "train Loss: 0.5704 Acc: 0.8473\n",
            "test Loss: 0.3616 Acc: 0.8980\n",
            "\n",
            "Epoch 11/20 \n",
            " ----------\n",
            "train Loss: 0.5709 Acc: 0.8321\n",
            "test Loss: 0.3443 Acc: 0.9184\n",
            "\n",
            "Epoch 12/20 \n",
            " ----------\n",
            "train Loss: 0.5592 Acc: 0.8168\n",
            "test Loss: 0.3560 Acc: 0.8980\n",
            "\n",
            "Epoch 13/20 \n",
            " ----------\n",
            "train Loss: 0.6061 Acc: 0.7824\n",
            "test Loss: 0.3584 Acc: 0.9184\n",
            "\n",
            "Epoch 14/20 \n",
            " ----------\n",
            "train Loss: 0.5418 Acc: 0.8321\n",
            "test Loss: 0.3597 Acc: 0.9184\n",
            "\n",
            "Epoch 15/20 \n",
            " ----------\n",
            "train Loss: 0.6110 Acc: 0.7977\n",
            "test Loss: 0.3546 Acc: 0.8980\n",
            "\n",
            "Epoch 16/20 \n",
            " ----------\n",
            "train Loss: 0.6243 Acc: 0.7939\n",
            "test Loss: 0.3482 Acc: 0.8980\n",
            "\n",
            "Epoch 17/20 \n",
            " ----------\n",
            "train Loss: 0.5675 Acc: 0.8397\n",
            "test Loss: 0.3563 Acc: 0.8980\n",
            "\n",
            "Epoch 18/20 \n",
            " ----------\n",
            "train Loss: 0.6076 Acc: 0.8282\n",
            "test Loss: 0.3592 Acc: 0.8980\n",
            "\n",
            "Epoch 19/20 \n",
            " ----------\n",
            "train Loss: 0.5836 Acc: 0.8092\n",
            "test Loss: 0.3639 Acc: 0.9184\n",
            "\n",
            "Epoch 20/20 \n",
            " ----------\n",
            "train Loss: 0.5672 Acc: 0.8282\n",
            "test Loss: 0.3588 Acc: 0.9184\n",
            "\n",
            "Training complete in 4m 4s\n",
            "Best epoch:10  TestLoss:0.344304  Acc: 0.918367\n"
          ]
        },
        {
          "output_type": "display_data",
          "data": {
            "text/plain": [
              "<Figure size 432x288 with 1 Axes>"
            ],
            "image/png": "[encoded data removed]"
          },
          "metadata": {
            "needs_background": "light"
          }
        },
        {
          "output_type": "display_data",
          "data": {
            "text/plain": [
              "<Figure size 432x288 with 1 Axes>"
            ],
            "image/png": "[encoded data removed]"
          },
          "metadata": {
            "needs_background": "light"
          }
        }
      ]
    },
    {
      "cell_type": "markdown",
      "source": [
        "# Итоги"
      ],
      "metadata": {
        "id": "P9WXbg4xa_Uj"
      }
    },
    {
      "cell_type": "markdown",
      "source": [
        "Графическое отображение точности классификации архитектурных стилей обученной моделью на тепловой карте"
      ],
      "metadata": {
        "id": "OgEN3uH2WbNS"
      }
    },
    {
      "cell_type": "code",
      "metadata": {
        "colab": {
          "base_uri": "https://localhost:8080/",
          "height": 388
        },
        "id": "30abp4mr8rbj",
        "outputId": "8bf3b73e-5b75-436d-b086-002ef7414e46"
      },
      "source": [
        "true_labels = []\n",
        "pred_labels = []\n",
        "for inputs, labels in dataloaders['test']:\n",
        "  pred = model.forward(inputs.to(device)) \n",
        "  _,pred = torch.max(pred, 1)\n",
        "  labels.to(torch.device(\"cpu\"))\n",
        "  pred.to(torch.device(\"cpu\"))\n",
        "  true_labels.extend(labels.tolist());\n",
        "  pred_labels.extend(pred.tolist());\n",
        "cm = metrics.confusion_matrix(true_labels,pred_labels)\n",
        "df_cm = DataFrame(cm, index = class_names, columns = class_names)\n",
        "ax = sn.heatmap(df_cm, cmap = 'Greens', annot = True)"
      ],
      "execution_count": 13,
      "outputs": [
        {
          "output_type": "stream",
          "name": "stderr",
          "text": [
            "/usr/local/lib/python3.7/dist-packages/torch/utils/data/dataloader.py:490: UserWarning: This DataLoader will create 6 worker processes in total. Our suggested max number of worker in current system is 2, which is smaller than what this DataLoader is going to create. Please be aware that excessive worker creation might get DataLoader running slow or even freeze, lower the worker number to avoid potential slowness/freeze if necessary.\n",
            "  cpuset_checked))\n"
          ]
        },
        {
          "output_type": "display_data",
          "data": {
            "text/plain": [
              "<Figure size 432x288 with 2 Axes>"
            ],
            "image/png": "[encoded data removed]"
          },
          "metadata": {
            "needs_background": "light"
          }
        }
      ]
    },
    {
      "cell_type": "markdown",
      "source": [
        "Сохранение обученной сети на Google Drive"
      ],
      "metadata": {
        "id": "MVIOMwd5QUZo"
      }
    },
    {
      "cell_type": "code",
      "metadata": {
        "id": "t3pHtwrDVOc0"
      },
      "source": [
        "model.eval()\n",
        "model = model.to(torch.device(\"cpu\"))\n",
        "input_tensor = torch.rand(1,3,224,224)\n",
        "script_model = torch.jit.trace(model,input_tensor)\n",
        "script_model.save(\"/content/drive/My Drive/\"+NAME+\".pt\")"
      ],
      "execution_count": 15,
      "outputs": []
    },
    {
      "cell_type": "code",
      "metadata": {
        "id": "4hAyJgnNm67q",
        "colab": {
          "base_uri": "https://localhost:8080/"
        },
        "outputId": "328280cd-5cb5-470b-b936-1d788e5e7ed8"
      },
      "source": [
        "summary(model, (3, 224, 224))"
      ],
      "execution_count": 14,
      "outputs": [
        {
          "output_type": "stream",
          "name": "stdout",
          "text": [
            "----------------------------------------------------------------\n",
            "        Layer (type)               Output Shape         Param #\n",
            "================================================================\n",
            "            Conv2d-1         [-1, 64, 112, 112]           9,408\n",
            "       BatchNorm2d-2         [-1, 64, 112, 112]             128\n",
            "              ReLU-3         [-1, 64, 112, 112]               0\n",
            "         MaxPool2d-4           [-1, 64, 56, 56]               0\n",
            "            Conv2d-5           [-1, 64, 56, 56]          36,864\n",
            "       BatchNorm2d-6           [-1, 64, 56, 56]             128\n",
            "              ReLU-7           [-1, 64, 56, 56]               0\n",
            "            Conv2d-8           [-1, 64, 56, 56]          36,864\n",
            "       BatchNorm2d-9           [-1, 64, 56, 56]             128\n",
            "             ReLU-10           [-1, 64, 56, 56]               0\n",
            "       BasicBlock-11           [-1, 64, 56, 56]               0\n",
            "           Conv2d-12           [-1, 64, 56, 56]          36,864\n",
            "      BatchNorm2d-13           [-1, 64, 56, 56]             128\n",
            "             ReLU-14           [-1, 64, 56, 56]               0\n",
            "           Conv2d-15           [-1, 64, 56, 56]          36,864\n",
            "      BatchNorm2d-16           [-1, 64, 56, 56]             128\n",
            "             ReLU-17           [-1, 64, 56, 56]               0\n",
            "       BasicBlock-18           [-1, 64, 56, 56]               0\n",
            "           Conv2d-19           [-1, 64, 56, 56]          36,864\n",
            "      BatchNorm2d-20           [-1, 64, 56, 56]             128\n",
            "             ReLU-21           [-1, 64, 56, 56]               0\n",
            "           Conv2d-22           [-1, 64, 56, 56]          36,864\n",
            "      BatchNorm2d-23           [-1, 64, 56, 56]             128\n",
            "             ReLU-24           [-1, 64, 56, 56]               0\n",
            "       BasicBlock-25           [-1, 64, 56, 56]               0\n",
            "           Conv2d-26          [-1, 128, 28, 28]          73,728\n",
            "      BatchNorm2d-27          [-1, 128, 28, 28]             256\n",
            "             ReLU-28          [-1, 128, 28, 28]               0\n",
            "           Conv2d-29          [-1, 128, 28, 28]         147,456\n",
            "      BatchNorm2d-30          [-1, 128, 28, 28]             256\n",
            "           Conv2d-31          [-1, 128, 28, 28]           8,192\n",
            "      BatchNorm2d-32          [-1, 128, 28, 28]             256\n",
            "             ReLU-33          [-1, 128, 28, 28]               0\n",
            "       BasicBlock-34          [-1, 128, 28, 28]               0\n",
            "           Conv2d-35          [-1, 128, 28, 28]         147,456\n",
            "      BatchNorm2d-36          [-1, 128, 28, 28]             256\n",
            "             ReLU-37          [-1, 128, 28, 28]               0\n",
            "           Conv2d-38          [-1, 128, 28, 28]         147,456\n",
            "      BatchNorm2d-39          [-1, 128, 28, 28]             256\n",
            "             ReLU-40          [-1, 128, 28, 28]               0\n",
            "       BasicBlock-41          [-1, 128, 28, 28]               0\n",
            "           Conv2d-42          [-1, 128, 28, 28]         147,456\n",
            "      BatchNorm2d-43          [-1, 128, 28, 28]             256\n",
            "             ReLU-44          [-1, 128, 28, 28]               0\n",
            "           Conv2d-45          [-1, 128, 28, 28]         147,456\n",
            "      BatchNorm2d-46          [-1, 128, 28, 28]             256\n",
            "             ReLU-47          [-1, 128, 28, 28]               0\n",
            "       BasicBlock-48          [-1, 128, 28, 28]               0\n",
            "           Conv2d-49          [-1, 128, 28, 28]         147,456\n",
            "      BatchNorm2d-50          [-1, 128, 28, 28]             256\n",
            "             ReLU-51          [-1, 128, 28, 28]               0\n",
            "           Conv2d-52          [-1, 128, 28, 28]         147,456\n",
            "      BatchNorm2d-53          [-1, 128, 28, 28]             256\n",
            "             ReLU-54          [-1, 128, 28, 28]               0\n",
            "       BasicBlock-55          [-1, 128, 28, 28]               0\n",
            "           Conv2d-56          [-1, 256, 14, 14]         294,912\n",
            "      BatchNorm2d-57          [-1, 256, 14, 14]             512\n",
            "             ReLU-58          [-1, 256, 14, 14]               0\n",
            "           Conv2d-59          [-1, 256, 14, 14]         589,824\n",
            "      BatchNorm2d-60          [-1, 256, 14, 14]             512\n",
            "           Conv2d-61          [-1, 256, 14, 14]          32,768\n",
            "      BatchNorm2d-62          [-1, 256, 14, 14]             512\n",
            "             ReLU-63          [-1, 256, 14, 14]               0\n",
            "       BasicBlock-64          [-1, 256, 14, 14]               0\n",
            "           Conv2d-65          [-1, 256, 14, 14]         589,824\n",
            "      BatchNorm2d-66          [-1, 256, 14, 14]             512\n",
            "             ReLU-67          [-1, 256, 14, 14]               0\n",
            "           Conv2d-68          [-1, 256, 14, 14]         589,824\n",
            "      BatchNorm2d-69          [-1, 256, 14, 14]             512\n",
            "             ReLU-70          [-1, 256, 14, 14]               0\n",
            "       BasicBlock-71          [-1, 256, 14, 14]               0\n",
            "           Conv2d-72          [-1, 256, 14, 14]         589,824\n",
            "      BatchNorm2d-73          [-1, 256, 14, 14]             512\n",
            "             ReLU-74          [-1, 256, 14, 14]               0\n",
            "           Conv2d-75          [-1, 256, 14, 14]         589,824\n",
            "      BatchNorm2d-76          [-1, 256, 14, 14]             512\n",
            "             ReLU-77          [-1, 256, 14, 14]               0\n",
            "       BasicBlock-78          [-1, 256, 14, 14]               0\n",
            "           Conv2d-79          [-1, 256, 14, 14]         589,824\n",
            "      BatchNorm2d-80          [-1, 256, 14, 14]             512\n",
            "             ReLU-81          [-1, 256, 14, 14]               0\n",
            "           Conv2d-82          [-1, 256, 14, 14]         589,824\n",
            "      BatchNorm2d-83          [-1, 256, 14, 14]             512\n",
            "             ReLU-84          [-1, 256, 14, 14]               0\n",
            "       BasicBlock-85          [-1, 256, 14, 14]               0\n",
            "           Conv2d-86          [-1, 256, 14, 14]         589,824\n",
            "      BatchNorm2d-87          [-1, 256, 14, 14]             512\n",
            "             ReLU-88          [-1, 256, 14, 14]               0\n",
            "           Conv2d-89          [-1, 256, 14, 14]         589,824\n",
            "      BatchNorm2d-90          [-1, 256, 14, 14]             512\n",
            "             ReLU-91          [-1, 256, 14, 14]               0\n",
            "       BasicBlock-92          [-1, 256, 14, 14]               0\n",
            "           Conv2d-93          [-1, 256, 14, 14]         589,824\n",
            "      BatchNorm2d-94          [-1, 256, 14, 14]             512\n",
            "             ReLU-95          [-1, 256, 14, 14]               0\n",
            "           Conv2d-96          [-1, 256, 14, 14]         589,824\n",
            "      BatchNorm2d-97          [-1, 256, 14, 14]             512\n",
            "             ReLU-98          [-1, 256, 14, 14]               0\n",
            "       BasicBlock-99          [-1, 256, 14, 14]               0\n",
            "          Conv2d-100            [-1, 512, 7, 7]       1,179,648\n",
            "     BatchNorm2d-101            [-1, 512, 7, 7]           1,024\n",
            "            ReLU-102            [-1, 512, 7, 7]               0\n",
            "          Conv2d-103            [-1, 512, 7, 7]       2,359,296\n",
            "     BatchNorm2d-104            [-1, 512, 7, 7]           1,024\n",
            "          Conv2d-105            [-1, 512, 7, 7]         131,072\n",
            "     BatchNorm2d-106            [-1, 512, 7, 7]           1,024\n",
            "            ReLU-107            [-1, 512, 7, 7]               0\n",
            "      BasicBlock-108            [-1, 512, 7, 7]               0\n",
            "          Conv2d-109            [-1, 512, 7, 7]       2,359,296\n",
            "     BatchNorm2d-110            [-1, 512, 7, 7]           1,024\n",
            "            ReLU-111            [-1, 512, 7, 7]               0\n",
            "          Conv2d-112            [-1, 512, 7, 7]       2,359,296\n",
            "     BatchNorm2d-113            [-1, 512, 7, 7]           1,024\n",
            "            ReLU-114            [-1, 512, 7, 7]               0\n",
            "      BasicBlock-115            [-1, 512, 7, 7]               0\n",
            "          Conv2d-116            [-1, 512, 7, 7]       2,359,296\n",
            "     BatchNorm2d-117            [-1, 512, 7, 7]           1,024\n",
            "            ReLU-118            [-1, 512, 7, 7]               0\n",
            "          Conv2d-119            [-1, 512, 7, 7]       2,359,296\n",
            "     BatchNorm2d-120            [-1, 512, 7, 7]           1,024\n",
            "            ReLU-121            [-1, 512, 7, 7]               0\n",
            "      BasicBlock-122            [-1, 512, 7, 7]               0\n",
            "AdaptiveAvgPool2d-123            [-1, 512, 1, 1]               0\n",
            "          Linear-124                    [-1, 5]           2,565\n",
            "================================================================\n",
            "Total params: 21,287,237\n",
            "Trainable params: 2,565\n",
            "Non-trainable params: 21,284,672\n",
            "----------------------------------------------------------------\n",
            "Input size (MB): 0.57\n",
            "Forward/backward pass size (MB): 96.28\n",
            "Params size (MB): 81.20\n",
            "Estimated Total Size (MB): 178.06\n",
            "----------------------------------------------------------------\n"
          ]
        }
      ]
    },
    {
      "cell_type": "code",
      "metadata": {
        "id": "V1HU9DoxGIDv",
        "colab": {
          "base_uri": "https://localhost:8080/"
        },
        "outputId": "7ea886c7-0864-4474-df05-0ac4a138026f"
      },
      "source": [
        "!nvidia-smi"
      ],
      "execution_count": 16,
      "outputs": [
        {
          "output_type": "stream",
          "name": "stdout",
          "text": [
            "Fri Jun 24 11:06:23 2022       \n",
            "+-----------------------------------------------------------------------------+\n",
            "| NVIDIA-SMI 460.32.03    Driver Version: 460.32.03    CUDA Version: 11.2     |\n",
            "|-------------------------------+----------------------+----------------------+\n",
            "| GPU  Name        Persistence-M| Bus-Id        Disp.A | Volatile Uncorr. ECC |\n",
            "| Fan  Temp  Perf  Pwr:Usage/Cap|         Memory-Usage | GPU-Util  Compute M. |\n",
            "|                               |                      |               MIG M. |\n",
            "|===============================+======================+======================|\n",
            "|   0  Tesla T4            Off  | 00000000:00:04.0 Off |                    0 |\n",
            "| N/A   71C    P0    30W /  70W |   1596MiB / 15109MiB |      0%      Default |\n",
            "|                               |                      |                  N/A |\n",
            "+-------------------------------+----------------------+----------------------+\n",
            "                                                                               \n",
            "+-----------------------------------------------------------------------------+\n",
            "| Processes:                                                                  |\n",
            "|  GPU   GI   CI        PID   Type   Process name                  GPU Memory |\n",
            "|        ID   ID                                                   Usage      |\n",
            "|=============================================================================|\n",
            "+-----------------------------------------------------------------------------+\n"
          ]
        }
      ]
    }
  ]
}